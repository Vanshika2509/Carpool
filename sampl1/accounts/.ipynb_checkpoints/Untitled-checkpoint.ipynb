{
 "cells": [
  {
   "cell_type": "code",
   "execution_count": 22,
   "metadata": {},
   "outputs": [
    {
     "name": "stdout",
     "output_type": "stream",
     "text": [
      "showing info https://raw.githubusercontent.com/nltk/nltk_data/gh-pages/index.xml\n"
     ]
    },
    {
     "data": {
      "text/plain": [
       "True"
      ]
     },
     "execution_count": 22,
     "metadata": {},
     "output_type": "execute_result"
    }
   ],
   "source": [
    "import nltk\n",
    "nltk.download()"
   ]
  },
  {
   "cell_type": "code",
   "execution_count": 8,
   "metadata": {},
   "outputs": [],
   "source": [
    "from nltk.tokenize import sent_tokenize,word_tokenize"
   ]
  },
  {
   "cell_type": "code",
   "execution_count": 9,
   "metadata": {},
   "outputs": [
    {
     "name": "stdout",
     "output_type": "stream",
     "text": [
      "['Hello Mr. Smith, How are you?', \"It's been raining since morning.\", 'I would like to invite you for dinner.', \"How's Radha?\"]\n"
     ]
    }
   ],
   "source": [
    "example_text=\"Hello Mr. Smith, How are you? It's been raining since morning. I would like to invite you for dinner. How's Radha?\"\n",
    "print(sent_tokenize(example_text))"
   ]
  },
  {
   "cell_type": "code",
   "execution_count": 10,
   "metadata": {},
   "outputs": [
    {
     "name": "stdout",
     "output_type": "stream",
     "text": [
      "Hello\n",
      "Mr.\n",
      "Smith\n",
      ",\n",
      "How\n",
      "are\n",
      "you\n",
      "?\n",
      "It\n",
      "'s\n",
      "been\n",
      "raining\n",
      "since\n",
      "morning\n",
      ".\n",
      "I\n",
      "would\n",
      "like\n",
      "to\n",
      "invite\n",
      "you\n",
      "for\n",
      "dinner\n",
      ".\n",
      "How\n",
      "'s\n",
      "Radha\n",
      "?\n"
     ]
    }
   ],
   "source": [
    "for i in word_tokenize(example_text):\n",
    "    print(i)"
   ]
  },
  {
   "cell_type": "code",
   "execution_count": 16,
   "metadata": {},
   "outputs": [],
   "source": [
    "from nltk.corpus import stopwords\n",
    "from nltk.tokenize import word_tokenize as wt\n"
   ]
  },
  {
   "cell_type": "code",
   "execution_count": 17,
   "metadata": {},
   "outputs": [],
   "source": [
    "example_sentence =\"This is an example showing word filteration from the list\""
   ]
  },
  {
   "cell_type": "code",
   "execution_count": 18,
   "metadata": {},
   "outputs": [
    {
     "name": "stdout",
     "output_type": "stream",
     "text": [
      "['This', 'example', 'showing', 'word', 'filteration', 'list']\n"
     ]
    }
   ],
   "source": [
    "stop_words = set(stopwords.words(\"English\"))\n",
    "words = wt(example_sentence)\n",
    "filtered_words = [w for w in words if w not in stop_words]\n",
    "print(filtered_words)"
   ]
  },
  {
   "cell_type": "code",
   "execution_count": 21,
   "metadata": {},
   "outputs": [
    {
     "name": "stdout",
     "output_type": "stream",
     "text": [
      "['Hi', 'this', 'is', 'very', 'importatnt', 'to', 'learn', 'python', 'language', '.', 'Being', 'educated', 'is', 'of', 'utmost', 'importance', '.', 'You', 'should', 'be', 'doing', 'your', 'home', 'work', 'seriously', '.']\n",
      "Hi\n",
      "thi\n",
      "is\n",
      "veri\n",
      "importatnt\n",
      "to\n",
      "learn\n",
      "python\n",
      "languag\n",
      ".\n",
      "be\n",
      "educ\n",
      "is\n",
      "of\n",
      "utmost\n",
      "import\n",
      ".\n",
      "you\n",
      "should\n",
      "be\n",
      "do\n",
      "your\n",
      "home\n",
      "work\n",
      "serious\n",
      ".\n"
     ]
    }
   ],
   "source": [
    "from nltk.stem import PorterStemmer\n",
    "new_text = \"Hi this is very importatnt to learn python language. Being educated is of utmost importance. You should be doing your home work seriously.\"\n",
    "words = wt(new_text)\n",
    "ps = PorterStemmer()\n",
    "print(words)\n",
    "for w in words:\n",
    "    print(ps.stem(w))"
   ]
  },
  {
   "cell_type": "code",
   "execution_count": 24,
   "metadata": {},
   "outputs": [],
   "source": [
    "from nltk.corpus import state_union as su\n",
    "from nltk.tokenize import PunktSentenceTokenizer as pst\n",
    "train_text = su.raw(\"2005-GWBush.txt\")\n",
    "sample_text = su.raw(\"2006-GWBush.txt\")"
   ]
  },
  {
   "cell_type": "markdown",
   "metadata": {},
   "source": [
    "custome = pst(train_text)"
   ]
  },
  {
   "cell_type": "code",
   "execution_count": 25,
   "metadata": {},
   "outputs": [],
   "source": [
    "custome = pst(train_text)\n"
   ]
  },
  {
   "cell_type": "code",
   "execution_count": null,
   "metadata": {},
   "outputs": [],
   "source": [
    "tokenized = custome.tokenize(sample_text)\n",
    "def process_content():\n",
    "    try:\n",
    "        for i in tokenized[:10]:\n",
    "            words = nltk.word_tokenize(i)\n",
    "            tagged = nltk.pos_tag(words)\n",
    "          \n",
    "            namedEnt = nltk.ne_chunk(tagged, binary=True)\n",
    "            namedEnt.draw()\n",
    "\n",
    "    except Exception as e:\n",
    "        print(str(e))\n",
    "\n",
    "\n",
    "process_content()"
   ]
  },
  {
   "cell_type": "code",
   "execution_count": null,
   "metadata": {},
   "outputs": [],
   "source": []
  }
 ],
 "metadata": {
  "kernelspec": {
   "display_name": "Python 3",
   "language": "python",
   "name": "python3"
  },
  "language_info": {
   "codemirror_mode": {
    "name": "ipython",
    "version": 3
   },
   "file_extension": ".py",
   "mimetype": "text/x-python",
   "name": "python",
   "nbconvert_exporter": "python",
   "pygments_lexer": "ipython3",
   "version": "3.7.4"
  }
 },
 "nbformat": 4,
 "nbformat_minor": 2
}

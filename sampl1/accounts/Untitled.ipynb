{
 "cells": [
  {
   "cell_type": "markdown",
   "metadata": {},
   "source": [
    "import nltk\n",
    "nltk.download()"
   ]
  },
  {
   "cell_type": "code",
   "execution_count": 5,
   "metadata": {},
   "outputs": [],
   "source": [
    "from nltk.tokenize import sent_tokenize,word_tokenize"
   ]
  },
  {
   "cell_type": "code",
   "execution_count": 6,
   "metadata": {},
   "outputs": [
    {
     "name": "stdout",
     "output_type": "stream",
     "text": [
      "['Hello Mr. Smith, How are you?', \"It's been raining since morning.\", 'I would like to invite you for dinner.', \"How's Radha?\"]\n"
     ]
    }
   ],
   "source": [
    "example_text=\"Hello Mr. Smith, How are you? It's been raining since morning. I would like to invite you for dinner. How's Radha?\"\n",
    "print(sent_tokenize(example_text))"
   ]
  },
  {
   "cell_type": "code",
   "execution_count": 7,
   "metadata": {},
   "outputs": [
    {
     "name": "stdout",
     "output_type": "stream",
     "text": [
      "Hello\n",
      "Mr.\n",
      "Smith\n",
      ",\n",
      "How\n",
      "are\n",
      "you\n",
      "?\n",
      "It\n",
      "'s\n",
      "been\n",
      "raining\n",
      "since\n",
      "morning\n",
      ".\n",
      "I\n",
      "would\n",
      "like\n",
      "to\n",
      "invite\n",
      "you\n",
      "for\n",
      "dinner\n",
      ".\n",
      "How\n",
      "'s\n",
      "Radha\n",
      "?\n"
     ]
    }
   ],
   "source": [
    "for i in word_tokenize(example_text):\n",
    "    print(i)"
   ]
  },
  {
   "cell_type": "code",
   "execution_count": 8,
   "metadata": {},
   "outputs": [],
   "source": [
    "from nltk.corpus import stopwords\n",
    "from nltk.tokenize import word_tokenize as wt\n"
   ]
  },
  {
   "cell_type": "code",
   "execution_count": 9,
   "metadata": {},
   "outputs": [],
   "source": [
    "example_sentence =\"This is an example showing word filteration from the list\""
   ]
  },
  {
   "cell_type": "code",
   "execution_count": 10,
   "metadata": {},
   "outputs": [
    {
     "name": "stdout",
     "output_type": "stream",
     "text": [
      "['This', 'example', 'showing', 'word', 'filteration', 'list']\n"
     ]
    }
   ],
   "source": [
    "stop_words = set(stopwords.words(\"English\"))\n",
    "words = wt(example_sentence)\n",
    "filtered_words = [w for w in words if w not in stop_words]\n",
    "print(filtered_words)"
   ]
  },
  {
   "cell_type": "code",
   "execution_count": 11,
   "metadata": {},
   "outputs": [
    {
     "name": "stdout",
     "output_type": "stream",
     "text": [
      "['Hi', 'this', 'is', 'very', 'importatnt', 'to', 'learn', 'python', 'language', '.', 'Being', 'educated', 'is', 'of', 'utmost', 'importance', '.', 'You', 'should', 'be', 'doing', 'your', 'home', 'work', 'seriously', '.']\n",
      "Hi\n",
      "thi\n",
      "is\n",
      "veri\n",
      "importatnt\n",
      "to\n",
      "learn\n",
      "python\n",
      "languag\n",
      ".\n",
      "be\n",
      "educ\n",
      "is\n",
      "of\n",
      "utmost\n",
      "import\n",
      ".\n",
      "you\n",
      "should\n",
      "be\n",
      "do\n",
      "your\n",
      "home\n",
      "work\n",
      "serious\n",
      ".\n"
     ]
    }
   ],
   "source": [
    "from nltk.stem import PorterStemmer\n",
    "new_text = \"Hi this is very importatnt to learn python language. Being educated is of utmost importance. You should be doing your home work seriously.\"\n",
    "words = wt(new_text)\n",
    "ps = PorterStemmer()\n",
    "print(words)\n",
    "for w in words:\n",
    "    print(ps.stem(w))"
   ]
  },
  {
   "cell_type": "code",
   "execution_count": 12,
   "metadata": {},
   "outputs": [],
   "source": [
    "from nltk.corpus import state_union as su\n",
    "from nltk.tokenize import PunktSentenceTokenizer as pst\n",
    "train_text = su.raw(\"2005-GWBush.txt\")\n",
    "sample_text = su.raw(\"2006-GWBush.txt\")"
   ]
  },
  {
   "cell_type": "markdown",
   "metadata": {},
   "source": [
    "custome = pst(train_text)"
   ]
  },
  {
   "cell_type": "code",
   "execution_count": 13,
   "metadata": {},
   "outputs": [],
   "source": [
    "custome = pst(train_text)\n"
   ]
  },
  {
   "cell_type": "code",
   "execution_count": 14,
   "metadata": {},
   "outputs": [],
   "source": [
    "tokenized = custome.tokenize(sample_text)\n",
    "def process_content():\n",
    "    try:\n",
    "        for i in tokenized[:10]:\n",
    "            words = nltk.word_tokenize(i)\n",
    "            tagged = nltk.pos_tag(words)\n",
    "          \n",
    "            namedEnt = nltk.ne_chunk(tagged, binary=True)\n",
    "            namedEnt.draw()\n",
    "\n",
    "    except Exception as e:\n",
    "        print(str(e))\n",
    "\n",
    "\n",
    "process_content()"
   ]
  },
  {
   "cell_type": "code",
   "execution_count": 30,
   "metadata": {},
   "outputs": [
    {
     "name": "stdout",
     "output_type": "stream",
     "text": [
      "neg\n",
      "['plot', ':', 'two', 'teen', 'couples', 'go', 'to', 'a', 'church', 'party', ',', 'drink', 'and', 'then', 'drive', '.', 'they', 'get', 'into', 'an', 'accident', 'one', 'of', 'the', 'guys', 'dies', 'but', 'his', 'girlfriend', 'continues', 'see', 'him', 'in', 'her', 'life', 'has', 'nightmares', 'what', \"'\", 's', 'deal', '?', 'watch', 'movie', '\"', 'sorta', 'find', 'out', 'critique', 'mind', '-', 'fuck', 'for', 'generation', 'that', 'touches', 'on', 'very', 'cool', 'idea', 'presents', 'it', 'bad', 'package', 'which', 'is', 'makes', 'this', 'review', 'even', 'harder', 'write', 'since', 'i', 'generally', 'applaud', 'films', 'attempt', 'break', 'mold', 'mess', 'with', 'your', 'head', 'such', '(', 'lost', 'highway', '&', 'memento', ')', 'there', 'are', 'good', 'ways', 'making', 'all', 'types', 'these', 'folks', 'just', 'didn', 't', 'snag', 'correctly', 'seem', 'have', 'taken', 'pretty', 'neat', 'concept', 'executed', 'terribly', 'so', 'problems', 'well', 'its', 'main', 'problem', 'simply', 'too', 'jumbled', 'starts', 'off', 'normal', 'downshifts', 'fantasy', 'world', 'you', 'as', 'audience', 'member', 'no', 'going', 'dreams', 'characters', 'coming', 'back', 'from', 'dead', 'others', 'who', 'look', 'like', 'strange', 'apparitions', 'disappearances', 'looooot', 'chase', 'scenes', 'tons', 'weird', 'things', 'happen', 'most', 'not', 'explained', 'now', 'personally', 'don', 'trying', 'unravel', 'film', 'every', 'when', 'does', 'give', 'me', 'same', 'clue', 'over', 'again', 'kind', 'fed', 'up', 'after', 'while', 'biggest', 'obviously', 'got', 'big', 'secret', 'hide', 'seems', 'want', 'completely', 'until', 'final', 'five', 'minutes', 'do', 'make', 'entertaining', 'thrilling', 'or', 'engaging', 'meantime', 'really', 'sad', 'part', 'arrow', 'both', 'dig', 'flicks', 'we', 'actually', 'figured', 'by', 'half', 'way', 'point', 'strangeness', 'did', 'start', 'little', 'bit', 'sense', 'still', 'more', 'guess', 'bottom', 'line', 'movies', 'should', 'always', 'sure', 'before', 'given', 'password', 'enter', 'understanding', 'mean', 'showing', 'melissa', 'sagemiller', 'running', 'away', 'visions', 'about', '20', 'throughout', 'plain', 'lazy', '!', 'okay', 'people', 'chasing', 'know', 'need', 'how', 'giving', 'us', 'different', 'offering', 'further', 'insight', 'down', 'apparently', 'studio', 'took', 'director', 'chopped', 'themselves', 'shows', 'might', 've', 'been', 'decent', 'here', 'somewhere', 'suits', 'decided', 'turning', 'music', 'video', 'edge', 'would', 'actors', 'although', 'wes', 'bentley', 'seemed', 'be', 'playing', 'exact', 'character', 'he', 'american', 'beauty', 'only', 'new', 'neighborhood', 'my', 'kudos', 'holds', 'own', 'entire', 'feeling', 'unraveling', 'overall', 'doesn', 'stick', 'because', 'entertain', 'confusing', 'rarely', 'excites', 'feels', 'redundant', 'runtime', 'despite', 'ending', 'explanation', 'craziness', 'came', 'oh', 'horror', 'slasher', 'flick', 'packaged', 'someone', 'assuming', 'genre', 'hot', 'kids', 'also', 'wrapped', 'production', 'years', 'ago', 'sitting', 'shelves', 'ever', 'whatever', 'skip', 'where', 'joblo', 'nightmare', 'elm', 'street', '3', '7', '/', '10', 'blair', 'witch', '2', 'crow', '9', 'salvation', '4', 'stir', 'echoes', '8', 'happy', 'bastard', 'quick', 'damn', 'y2k', 'bug', 'starring', 'jamie', 'lee', 'curtis', 'another', 'baldwin', 'brother', 'william', 'time', 'story', 'regarding', 'crew', 'tugboat', 'comes', 'across', 'deserted', 'russian', 'tech', 'ship', 'kick', 'power', 'within', 'gore', 'bringing', 'few', 'action', 'sequences', 'virus', 'empty', 'flash', 'substance', 'why', 'was', 'middle', 'nowhere', 'origin', 'pink', 'flashy', 'thing', 'hit', 'mir', 'course', 'donald', 'sutherland', 'stumbling', 'around', 'drunkenly', 'hey', 'let', 'some', 'robots', 'acting', 'below', 'average', 'likes', 're', 'likely', 'work', 'halloween', 'h20', 'wasted', 'real', 'star', 'stan', 'winston', 'robot', 'design', 'schnazzy', 'cgi', 'occasional', 'shot', 'picking', 'brain', 'if', 'body', 'parts', 'turn', 'otherwise', 'much', 'sunken', 'jaded', 'viewer', 'thankful', 'invention', 'timex', 'indiglo', 'based', 'late', '1960', 'television', 'show', 'name', 'mod', 'squad', 'tells', 'tale', 'three', 'reformed', 'criminals', 'under', 'employ', 'police', 'undercover', 'however', 'wrong', 'evidence', 'gets', 'stolen', 'immediately', 'suspicion', 'ads', 'cuts', 'claire', 'dane', 'nice', 'hair', 'cute', 'outfits', 'car', 'chases', 'stuff', 'blowing', 'sounds', 'first', 'fifteen', 'quickly', 'becomes', 'apparent', 'certainly', 'slick', 'looking', 'complete', 'costumes', 'isn', 'enough', 'best', 'described', 'cross', 'between', 'hour', 'long', 'cop', 'stretched', 'span', 'single', 'clich', 'matter', 'elements', 'recycled', 'everything', 'already', 'seen', 'nothing', 'spectacular', 'sometimes', 'bordering', 'wooden', 'danes', 'omar', 'epps', 'deliver', 'their', 'lines', 'bored', 'transfers', 'onto', 'escape', 'relatively', 'unscathed', 'giovanni', 'ribisi', 'plays', 'resident', 'crazy', 'man', 'ultimately', 'being', 'worth', 'watching', 'unfortunately', 'save', 'convoluted', 'apart', 'occupying', 'screen', 'young', 'cast', 'clothes', 'hip', 'soundtrack', 'appears', 'geared', 'towards', 'teenage', 'mindset', 'r', 'rating', 'content', 'justify', 'juvenile', 'older', 'information', 'literally', 'spoon', 'hard', 'instead', 'telling', 'dialogue', 'poorly', 'written', 'extremely', 'predictable', 'progresses', 'won', 'care', 'heroes', 'any', 'jeopardy', 'll', 'aren', 'basing', 'nobody', 'remembers', 'questionable', 'wisdom', 'especially', 'considers', 'target', 'fact', 'number', 'memorable', 'can', 'counted', 'hand', 'missing', 'finger', 'times', 'checked', 'six', 'clear', 'indication', 'them', 'than', 'cash', 'spending', 'dollar', 'judging', 'rash', 'awful', 'seeing', 'avoid', 'at', 'costs', 'quest', 'camelot', 'warner', 'bros', 'feature', 'length', 'fully', 'animated', 'steal', 'clout', 'disney', 'cartoon', 'empire', 'mouse', 'reason', 'worried', 'other', 'recent', 'challenger', 'throne', 'last', 'fall', 'promising', 'flawed', '20th', 'century', 'fox', 'anastasia', 'hercules', 'lively', 'colorful', 'palate', 'had', 'beat', 'hands', 'crown', '1997', 'piece', 'animation', 'year', 'contest', 'arrival', 'magic', 'kingdom', 'mediocre', '--', 'd', 'pocahontas', 'those', 'keeping', 'score', 'nearly', 'dull', 'revolves', 'adventures', 'free', 'spirited', 'kayley', 'voiced', 'jessalyn', 'gilsig', 'early', 'daughter', 'belated', 'knight', 'king', 'arthur', 'round', 'table', 'dream', 'follow', 'father', 'footsteps', 'she', 'chance', 'evil', 'warlord', 'ruber', 'gary', 'oldman', 'ex', 'gone', 'steals', 'magical', 'sword', 'excalibur', 'accidentally', 'loses', 'dangerous', 'booby', 'trapped', 'forest', 'help', 'hunky', 'blind', 'timberland', 'dweller', 'garrett', 'carey', 'elwes', 'headed', 'dragon', 'eric', 'idle', 'rickles', 'arguing', 'itself', 'able', 'medieval', 'sexist', 'prove', 'fighter', 'side', 'pure', 'showmanship', 'essential', 'element', 'expected', 'climb', 'high', 'ranks', 'differentiates', 'something', 'saturday', 'morning', 'subpar', 'instantly', 'forgettable', 'songs', 'integrated', 'computerized', 'footage', 'compare', 'run', 'angry', 'ogre', 'herc', 'battle', 'hydra', 'rest', 'case', 'stink', 'none', 'remotely', 'interesting', 'race', 'bland', 'end', 'tie', 'win', 'comedy', 'shtick', 'awfully', 'cloying', 'least', 'signs', 'pulse', 'fans', \"-'\", '90s', 'tgif', 'will', 'thrilled', 'jaleel', 'urkel', 'white', 'bronson', 'balki', 'pinchot', 'sharing', 'nicely', 'realized', 'though', 'm', 'loss', 'recall', 'specific', 'providing', 'voice', 'talent', 'enthusiastic', 'paired', 'singers', 'sound', 'musical', 'moments', 'jane', 'seymour', 'celine', 'dion', 'must', 'strain', 'through', 'aside', 'children', 'probably', 'adults', 'grievous', 'error', 'lack', 'personality', 'learn', 'goes', 'synopsis', 'mentally', 'unstable', 'undergoing', 'psychotherapy', 'saves', 'boy', 'potentially', 'fatal', 'falls', 'love', 'mother', 'fledgling', 'restauranteur', 'unsuccessfully', 'attempting', 'gain', 'woman', 'favor', 'takes', 'pictures', 'kills', 'comments', 'stalked', 'yet', 'seemingly', 'endless', 'string', 'spurned', 'psychos', 'getting', 'revenge', 'type', 'stable', 'category', '1990s', 'industry', 'theatrical', 'direct', 'proliferation', 'may', 'due', 'typically', 'inexpensive', 'produce', 'special', 'effects', 'stars', 'serve', 'vehicles', 'nudity', 'allowing', 'frequent', 'night', 'cable', 'wavers', 'slightly', 'norm', 'respect', 'psycho', 'never', 'affair', ';', 'contrary', 'rejected', 'rather', 'lover', 'wife', 'husband', 'entry', 'doomed', 'collect', 'dust', 'viewed', 'midnight', 'provide', 'suspense', 'sets', 'interspersed', 'opening', 'credits', 'instance', 'serious', 'sounding', 'narrator', 'spouts', 'statistics', 'stalkers', 'ponders', 'cause', 'stalk', 'implicitly', 'implied', 'men', 'shown', 'snapshot', 'actor', 'jay', 'underwood', 'states', 'daryl', 'gleason', 'stalker', 'brooke', 'daniels', 'meant', 'called', 'guesswork', 'required', 'proceeds', 'begins', 'obvious', 'sequence', 'contrived', 'quite', 'brings', 'victim', 'together', 'obsesses', 'follows', 'tries', 'woo', 'plans', 'become', 'desperate', 'elaborate', 'include', 'cliche', 'murdered', 'pet', 'require', 'found', 'exception', 'cat', 'shower', 'events', 'lead', 'inevitable', 'showdown', 'survives', 'invariably', 'conclusion', 'turkey', 'uniformly', 'adequate', 'anything', 'home', 'either', 'turns', 'toward', 'melodrama', 'overdoes', 'words', 'manages', 'creepy', 'pass', 'demands', 'maryam', 'abo', 'close', 'played', 'bond', 'chick', 'living', 'daylights', 'equally', 'title', 'ditzy', 'strong', 'independent', 'business', 'owner', 'needs', 'proceed', 'example', 'suspicions', 'ensure', 'use', 'excuse', 'decides', 'return', 'toolbox', 'left', 'place', 'house', 'leave', 'door', 'answers', 'opens', 'wanders', 'returns', 'enters', 'our', 'heroine', 'danger', 'somehow', 'parked', 'front', 'right', 'oblivious', 'presence', 'inside', 'whole', 'episode', 'places', 'incredible', 'suspension', 'disbelief', 'questions', 'validity', 'intelligence', 'receives', 'highly', 'derivative', 'somewhat', 'boring', 'cannot', 'watched', 'rated', 'mostly', 'several', 'murder', 'brief', 'strip', 'bar', 'offensive', 'many', 'thrillers', 'mood', 'stake', 'else', 'capsule', '2176', 'planet', 'mars', 'taking', 'custody', 'accused', 'murderer', 'face', 'menace', 'lot', 'fighting', 'john', 'carpenter', 'reprises', 'ideas', 'previous', 'assault', 'precinct', '13', 'homage', 'himself', '0', '+', 'believes', 'fight', 'horrible', 'writer', 'supposedly', 'expert', 'mistake', 'ghosts', 'drawn', 'humans', 'surprisingly', 'low', 'powered', 'alien', 'addition', 'anybody', 'made', 'grounds', 'sue', 'chock', 'full', 'pieces', 'prince', 'darkness', 'surprising', 'managed', 'fit', 'admittedly', 'novel', 'science', 'fiction', 'experience', 'terraformed', 'walk', 'surface', 'without', 'breathing', 'gear', 'budget', 'mentioned', 'gravity', 'increased', 'earth', 'easier', 'society', 'changed', 'advanced', 'culture', 'women', 'positions', 'control', 'view', 'stagnated', 'female', 'beyond', 'minor', 'technological', 'advances', 'less', '175', 'expect', 'change', 'ten', 'basic', 'common', 'except', 'yes', 'replaced', 'tacky', 'rundown', 'martian', 'mining', 'colony', 'having', 'criminal', 'napolean', 'wilson', 'desolation', 'williams', 'facing', 'hoodlums', 'automatic', 'weapons', 'nature', 'behave', 'manner', 'essentially', 'human', 'savages', 'lapse', 'imagination', 'told', 'flashback', 'entirely', 'filmed', 'almost', 'tones', 'red', 'yellow', 'black', 'powerful', 'scene', 'train', 'rushing', 'heavy', 'sadly', 'buildup', 'terror', 'creates', 'looks', 'fugitive', 'wannabes', 'rock', 'band', 'kiss', 'building', 'bunch', 'sudden', 'jump', 'sucker', 'thinking', 'scary', 'happening', 'standard', 'haunted', 'shock', 'great', 'newer', 'unimpressive', 'digital', 'decapitations', 'fights', 'short', 'stretch', 'release', 'mission', 'panned', 'reviewers', 'better', 'rate', 'scale', 'following', 'showed', 'liked', 'moderately', 'classic', 'comment', 'twice', 'ask', 'yourself', '8mm', 'eight', 'millimeter', 'wholesome', 'surveillance', 'sight', 'values', 'becoming', 'enmeshed', 'seedy', 'sleazy', 'underworld', 'hardcore', 'pornography', 'bubbling', 'beneath', 'town', 'americana', 'sordid', 'sick', 'depraved', 'necessarily', 'stop', 'order', 'satisfy', 'twisted', 'desires', 'position', 'influence', 'kinds', 'demented', 'talking', 'snuff', 'supposed', 'documentaries', 'victims', 'brutalized', 'killed', 'camera', 'joel', 'schumacher', 'credit', 'batman', 'robin', 'kill', 'forever', 'client', 'thirds', 'unwind', 'fairly', 'conventional', 'persons', 'drama', 'albeit', 'particularly', 'unsavory', 'core', 'threatening', 'along', 'explodes', 'violence', 'think', 'finally', 'tags', 'ridiculous', 'self', 'righteous', 'finale', 'drags', 'unpleasant', 'trust', 'waste', 'hours', 'nicolas', 'snake', 'eyes', 'cage', 'private', 'investigator', 'tom', 'welles', 'hired', 'wealthy', 'philadelphia', 'widow', 'determine', 'whether', 'reel', 'safe', 'documents', 'girl', 'assignment', 'factly', 'puzzle', 'neatly', 'specialized', 'skills', 'training', 'easy', 'cops', 'toilet', 'tanks', 'clues', 'deeper', 'digs', 'investigation', 'obsessed', 'george', 'c', 'scott', 'paul', 'schrader', 'occasionally', 'flickering', 'whirs', 'sprockets', 'winding', 'projector', 'reminding', 'task', 'hints', 'toll', 'lovely', 'catherine', 'keener', 'frustrated', 'cleveland', 'ugly', 'split', 'level', 'harrisburg', 'pa', 'condemn', 'condone', 'subject', 'exploits', 'irony', 'seven', 'scribe', 'andrew', 'kevin', 'walker', 'vision', 'lane', 'limited', 'hollywood', 'product', 'snippets', 'covering', 'later', 'joaquin', 'phoenix', 'far', 'adult', 'bookstore', 'flunky', 'max', 'california', 'cover', 'horrid', 'screened', 'familiar', 'revelation', 'sexual', 'deviants', 'indeed', 'monsters', 'everyday', 'neither', 'super', 'nor', 'shocking', 'banality', 'exactly', 'felt', 'weren', 'nine', 'laughs', 'months', 'terrible', 'mr', 'hugh', 'grant', 'huge', 'dork', 'oral', 'sex', 'prostitution', 'referring', 'bugs', 'annoying', 'adam', 'sandler', 'jim', 'carrey', 'eye', 'flutters', 'nervous', 'smiles', 'slapstick', 'fistfight', 'delivery', 'room', 'culminating', 'joan', 'cusack', 'lap', 'paid', '$', '60', 'included', 'obscene', 'double', 'entendres', 'obstetrician', 'pregnant', 'pussy', 'size', 'hairs', 'coat', 'nonetheless', 'exchange', 'cookie', 'cutter', 'originality', 'humor', 'successful', 'child', 'psychiatrist', 'psychologist', 'scriptwriters', 'could', 'inject', 'unfunny', 'kid', 'dad', 'asshole', 'eyelashes', 'offers', 'smile', 'responds', 'english', 'accent', 'attitude', 'possibly', '_huge_', 'beside', 'includes', 'needlessly', 'stupid', 'jokes', 'olds', 'everyone', 'shakes', 'anyway', 'finds', 'usual', 'reaction', 'fluttered', 'paves', 'possible', 'pregnancy', 'birth', 'gag', 'book', 'friend', 'arnold', 'provides', 'cacophonous', 'funny', 'beats', 'costumed', 'arnie', 'dinosaur', 'draw', 'parallels', 'toy', 'store', 'jeff', 'goldblum', 'hid', 'dreadful', 'hideaway', 'artist', 'fear', 'simultaneous', 'longing', 'commitment', 'doctor', 'recently', 'switch', 'veterinary', 'medicine', 'obstetrics', 'joke', 'old', 'foreign', 'guy', 'mispronounces', 'stereotype', 'say', 'yakov', 'smirnov', 'favorite', 'vodka', 'hence', 'take', 'volvo', 'nasty', 'unamusing', 'heads', 'simultaneously', 'groan', 'failure', 'loud', 'failed', 'uninspired', 'lunacy', 'sunset', 'boulevard', 'arrest', 'please', 'caught', 'pants', 'bring', 'theaters', 'faces', '90', 'forced', 'unauthentic', 'anyone', 'q', '80', 'sorry', 'money', 'unfulfilled', 'desire', 'spend', 'bucks', 'call', 'road', 'trip', 'walking', 'wounded', 'stellan', 'skarsg', 'rd', 'convincingly', 'zombified', 'drunken', 'loser', 'difficult', 'smelly', 'boozed', 'reliable', 'swedish', 'adds', 'depth', 'significance', 'plodding', 'aberdeen', 'sentimental', 'painfully', 'mundane', 'european', 'playwright', 'august', 'strindberg', 'built', 'career', 'families', 'relationships', 'paralyzed', 'secrets', 'unable', 'express', 'longings', 'accurate', 'reflection', 'strives', 'focusing', 'pairing', 'alcoholic', 'tomas', 'alienated', 'openly', 'hostile', 'yuppie', 'kaisa', 'lena', 'headey', 'gossip', 'haven', 'spoken', 'wouldn', 'norway', 'scotland', 'automobile', 'charlotte', 'rampling', 'sand', 'rotting', 'hospital', 'bed', 'cancer', 'soap', 'opera', 'twist', 'days', 'live', 'blitzed', 'step', 'foot', 'plane', 'hits', 'open', 'loathing', 'each', 'periodic', 'stops', 'puke', 'dashboard', 'whenever', 'muttering', 'rotten', 'turned', 'sloshed', 'viewpoint', 'recognizes', 'apple', 'hasn', 'fallen', 'tree', 'nosebleeds', 'snorting', 'coke', 'sabotages', 'personal', 'indifference', 'restrain', 'vindictive', 'temper', 'ain', 'pair', 'true', 'notes', 'unspoken', 'familial', 'empathy', 'note', 'repetitively', 'bitchy', 'screenwriters', 'kristin', 'amundsen', 'hans', 'petter', 'moland', 'fabricate', 'series', 'contrivances', 'propel', 'forward', 'roving', 'hooligans', 'drunks', 'nosy', 'flat', 'tires', 'figure', 'schematic', 'convenient', 'narrative', 'reach', 'unveil', 'dark', 'past', 'simplistic', 'devices', 'trivialize', 'conflict', 'mainstays', 'wannabe', 'exists', 'purely', 'sake', 'weak', 'unimaginative', 'casting', 'thwarts', 'pivotal', 'role', 'were', 'stronger', 'actress', 'perhaps', 'coast', 'performances', 'moody', 'haunting', 'cinematography', 'rendering', 'pastoral', 'ghost', 'reference', 'certain', 'superior', 'indie', 'intentional', 'busy', 'using', 'furrowed', 'brow', 'convey', 'twitch', 'insouciance', 'paying', 'attention', 'maybe', 'doing', 'reveal', 'worthwhile', 'earlier', 'released', '2001', 'jonathan', 'nossiter', 'captivating', 'wonders', 'disturbed', 'parental', 'figures', 'bound', 'ceremonial', 'wedlock', 'differences', 'presented', 'significant', 'luminous', 'diva', 'preening', 'static', 'solid', 'performance', 'pathetic', 'drunk', 'emote', 'besides', 'catatonic', 'sorrow', 'genuine', 'ferocity', 'sexually', 'charged', 'frisson', 'during', 'understated', 'confrontations', 'suggest', 'gray', 'zone', 'complications', 'accompany', 'torn', 'romance', 'stifled', 'curiosity', 'thoroughly', 'explores', 'neurotic', 'territory', 'delving', 'americanization', 'greece', 'mysticism', 'illusion', 'deflect', 'pain', 'overloaded', 'willing', 'come', 'traditional', 'ambitious', 'sleepwalk', 'rhythms', 'timing', 'driven', 'stories', 'complexities', 'depressing', 'answer', 'lawrence', 'kasdan', 'trite', 'useful', 'grand', 'canyon', 'steve', 'martin', 'mogul', 'pronounces', 'riddles', 'answered', 'advice', 'heart', 'french', 'sees', 'parents', 'tim', 'roth', 'oops', 'vows', 'taught', 'musketeer', 'dude', 'used', 'fourteen', 'arrgh', 'swish', 'zzzzzzz', 'original', 'lacks', 'energy', 'next', 'hmmmm', 'justin', 'chambers', 'basically', 'uncharismatic', 'version', 'chris', 'o', 'donnell', 'range', 'mena', 'suvari', 'thora', 'birch', 'dungeons', 'dragons', 'miscast', 'deliveries', 'piss', 'poor', 'ms', 'fault', 'definitely', 'higher', 'semi', 'saving', 'grace', 'wise', 'irrepressible', 'once', 'thousand', 'god', 'beg', 'agent', 'marketplace', 'modern', 'day', 'roles', 'romantic', 'gunk', 'alright', 'yeah', 'yikes', 'notches', 'fellas', 'blares', 'ear', 'accentuate', 'annoy', 'important', 'behind', 'recognize', 'epic', 'fluffy', 'rehashed', 'cake', 'created', 'shrewd', 'advantage', 'kung', 'fu', 'phenomenon', 'test', 'dudes', 'keep', 'reading', 'editing', 'shoddy', 'banal', 'stilted', 'plentiful', 'top', 'horse', 'carriage', 'stand', 'opponent', 'scampering', 'cut', 'mouseketeer', 'rope', 'tower', 'jumping', 'chords', 'hanging', 'says', '14', 'shirt', 'strayed', 'championing', 'fun', 'stretches', 'atrocious', 'lake', 'reminded', 'school', 'cringe', 'musketeers', 'fat', 'raison', 'etre', 'numbers', 'hoping', 'packed', 'stuntwork', 'promoted', 'trailer', 'major', 'swashbuckling', 'beginning', 'finishes', 'juggling', 'ladders', 'ladder', 'definite', 'keeper', 'regurgitated', 'crap', 'tell', 'deneuve', 'placed', 'hullo', 'barely', 'ugh', 'small', 'annoyed', 'trash', 'gang', 'vow', 'stay', 'thank', 'outlaws', '5', 'crouching', 'tiger', 'hidden', 'matrix', 'replacement', 'killers', '6', 'romeo', 'die', 'shanghai', 'noon', 'remembered', 'dr', 'hannibal', 'lecter', 'michael', 'mann', 'forensics', 'thriller', 'manhunter', 'scottish', 'brian', 'cox', 'works', 'usually', 'schlock', 'halfway', 'goodnight', 'meaty', 'substantial', 'brilliant', 'check', 'dogged', 'inspector', 'opposite', 'frances', 'mcdormand', 'ken', 'loach', 'agenda', 'harrigan', 'disturbing', 'l', 'e', '47', 'picked', 'sundance', 'distributors', 'scared', 'budge', 'dares', 'speak', 'expresses', 'seeking', 'adolescents', 'pad', 'bothered', 'members', 'presentation', 'oddly', 'empathetic', 'light', 'tempered', 'robust', 'listens', 'opposed', 'friends', 'wire', 'act', 'confused', 'lives', 'pay', 'courtship', 'charming', 'temptations', 'grown', 'stands', 'island', 'expressway', 'slices', 'malls', 'class', 'homes', 'suburbia', 'filmmaker', 'cuesta', 'uses', 'transparent', 'metaphor', '15', 'protagonist', 'howie', 'franklin', 'dano', 'reveals', 'morbid', 'preoccupation', 'death', 'citing', 'deaths', 'alan', 'j', 'pakula', 'songwriter', 'harry', 'chapin', 'exit', '52', 'fascinated', 'feelings', 'projected', 'bright', 'move', 'force', 'complex', 'molesters', 'beast', 'ashamed', 'worked', 'ill', 'advised', 'foray', 'unnecessary', 'padding', 'miserable', 'bruce', 'altman', 'seat', 'collar', 'crime', 'degenerate', 'youngsters', 'kicks', 'robbing', 'houses', 'homoerotic', 'shenanigans', 'ass', 'terrio', 'billy', 'kay', 'handsome', 'artful', 'dodger', 'add', 'themes', 'suburban', 'ennui', 'needed', 'awkward', 'subplots', 'concurrently', 'relationship', 'evenly', 'paced', 'exceptionally', 'acted', 'sporting', 'baseball', 'cap', 'faded', 'marine', 'tattoo', 'bluff', 'bluster', 'quiet', 'glance', 'withdrawn', 'whose', 'dramatic', 'choices', 'broad', 'calling', 'haley', 'restraint', 'admirable', 'screenplay', 'material', 'reads', 'walt', 'whitman', 'poem', 'moment', 'precious', 'lingers', 'ecstatic', 'hearing', 'glenn', 'gould', 'performing', 'bach', 'goldberg', 'variations', 'involving', 'walter', 'masterson', 'jealous', 'newbie', 'thread', 'predictably', 'leads', 'observational', 'portrait', 'alienation', 'royally', 'screwed', 'terry', 'zwigoff', 'superb', 'confidence', 'ambivalent', 'typical', 'cinema', 'wrap', 'bullet', 'sparing', 'writers', 'philosophical', 'regard', 'countless', 'share', 'blockbuster', 'solved', 'obstacle', 'removed', 'often', 'extend', 'question', 'striving', 'realism', 'destroy', 'janeane', 'garofalo', 'couple', 'truth', 'cats', 'dogs', 'excruciating', 'matchmaker', 'books', 'plods', 'predestined', 'surprises', 'jumps', 'popular', 'political', 'satire', 'bandwagon', 'campaign', 'aide', 'massacusetts', 'senator', 'sanders', 'reelection', 'denis', 'leary', 'stereotypical', 'strategist', 'ethics', 'scandal', 'plagued', 'play', 'irish', 'roots', 'boston', 'roman', 'catholic', 'democrat', 'contingent', 'kennedy', 'family', 'orders', 'ireland', 'relatives', 'exploit', 'soon', 'learns', 'said', 'done', 'mantra', 'tiny', 'misses', 'bus', 'hotel', 'ends', 'smallest', 'trashiest', 'dog', 'luggage', 'roger', 'ebert', 'calls', 'meet', 'happens', 'unconventional', 'cinematic', 'walks', 'bathroom', 'nude', 'sean', 'david', 'hara', 'bathtub', 'points', 'guessing', 'water', 'hates', 'instant', 'saw', 'irishman', 'hate', 'awhile', 'succumb', 'charms', 'happily', 'superficial', 'detail', 'throw', 'turmoil', 'reconcile', 'tune', 'annual', 'matchmaking', 'festival', 'lonely', 'county', 'future', 'bliss', 'milo', 'shea', 'snyder', 'pops', 'onscreen', 'spew', 'souls', 'assured', 'match', 'utter', 'predictability', 'message', 'respectable', 'person', 'comedic', 'distinction', 'sell', 'script', 'excited', 'stays', 'stateside', 'yelling', 'phone', 'undoes', 'microphone', 'speech', 'known', 'flying', 'hong', 'kong', 'style', 'filmmaking', 'classics', 'nod', 'asia', 'france', 'lukewarm', 'dumas', 'asian', 'stunt', 'coordinator', 'xing', 'xiong', 'prior', 'attempts', 'choreography', 'laughable', 'van', 'damme', 'vehicle', 'team', 'dennis', 'rodman', 'simon', 'sez', 'thrown', 'air', 'result', 'tepid', 'adventure', 'rip', 'stinks', 'indiana', 'jones', 'simple', 'grandmother', 'adapted', 'artagnan', 'vengeful', 'son', 'slain', 'travels', 'paris', 'join', 'royal', 'meets', 'cunning', 'cardinal', 'richelieu', 'stephen', 'rea', 'overthrow', 'associate', 'febre', 'killer', 'disbanded', 'rounds', 'aramis', 'nick', 'moran', 'athos', 'jan', 'gregor', 'kremp', 'porthos', 'steven', 'spiers', 'wrongfully', 'imprisoned', 'leader', 'treville', 'prison', 'frisky', 'interest', 'chambermaid', 'francesca', 'footsy', 'coo', 'hunts', 'queen', 'captured', 'menancing', 'forcing', 'regroup', 'leading', 'charge', 'peter', 'hyams', 'wanted', 'blend', 'eastern', 'western', 'styles', 'disaster', 'reality', 'ones', 'jet', 'li', 'risk', 'ironically', 'swordplay', 'spread', 'carry', 'bulk', '30', 'minute', 'picture', 'weighs', 'monotonous', 'gene', 'quintano', 'prosaic', 'wedding', 'planner', 'mousy', 'artangnan', 'hyam', 'candles', 'torches', 'grime', 'filth', '17th', 'noted', 'standout', 'mortal', 'kombat', 'annihilation', 'reviewed', 'multiple', 'levels', 'rampant', 'usage', 'randian', 'subtext', 'pervades', 'occasionaly', 'ironic', 'depreciating', 'remark', 'tosses', 'clearly', 'marxist', 'imagery', 'kidding', 'seriousness', 'fair', '*', 'necessary', 'viewpoints', 'watcher', 'unfamiliar', 'marginally', 'fan', 'games', '1995', 'concerned', 'martial', 'arts', 'tournament', 'decide', 'fate', 'billion', 'inhabitants', 'mortals', 'theory', 'prevented', 'emperor', 'shao', 'khan', 'arriving', 'ready', 'assumed', 'stance', 'extraordinarily', 'myself', 'game', 'enjoyed', 'directors', 'knew', 'limitations', 'try', 'overachieve', 'accompanying', 'intersperesed', 'distracting', 'non', 'intrusive', 'bits', 'fluff', 'passing', 'smashing', 'success', 'box', 'office', 'picks', 'precisely', 'introductory', 'exposition', 'anyways', 'hell', 'silly', 'rule', 'winning', 'thereafter', 'approximately', '85', 'alternates', 'general', 'impression', 'producers', 'thought', 'formula', 'volumes', 'truly', 'sandra', 'hess', 'sonya', 'blade', 'execrable', 'convince', 'loved', 'johnny', 'greased', 'worst', 'mis', 'james', 'remar', 'raiden', 'thunder', 'christopher', 'lambert', 'japanese', 'revered', 'chinese', 'mystics', 'against', 'lister', 'jr', 'president', 'u', 'fifth', 'utility', 'totally', 'luxury', 'amused', 'awareness', 'introduced', 'meaningless', 'sidetracks', 'including', 'muddled', 'liu', 'kang', 'shou', 'seeks', 'nightwolf', 'litefoot', 'mystical', 'hallucination', 'jade', 'irina', 'pantaeva', 'reasons', 'unless', 'critiques', 'apply', 'worse', 'bridgette', 'convincing', 'looked', 'mimicing', 'movements', 'choreographer', 'knows', 'puts', 'believable', 'jax', 'earthquake', 'animality', 'bonus', 'similar', 'moves', 'mistakenly', 'hang', 'lamest', 'involved', 'mud', 'wrestling', 'lame', 'politically', 'incorrect', 'noticed', 'remarked', 'upon', 'emporer', 'perform', 'animalities', 'motaro', 'sheeva', 'lifelike', 'goro', 'enjoy', 'femme', 'la', 'nikita', 'backdraft', 'sliver', 'cindy', 'crawford', 'anne', 'parillaud', 'conspire', 'shattered', 'image', 'hooey', 'stallone', 'stone', 'specialist', 'poses', 'recurring', 'assassin', 'honeymooning', 'jamaica', 'believe', 'runs', 'painful', 'pedestrian', 'siouxsie', 'sioux', 'wig', 'emotionless', 'leather', 'clothing', 'seattle', 'moping', 'karen', 'endlessly', 'complicated', 'plots', 'helps', 'crisp', 'modicum', 'shakespearean', 'begin', 'saddled', 'leaden', 'zero', 'breaking', 'cardboard', 'confines', 'insist', 'couldn', 'huh', 'wonderful', 'interchange', 'charm', 'faster', 'learned', 'cereal', 'crybaby', 'imagines', 'stranger', 'sends', 'flowers', 'chromium', 'tough', 'nails', 'crack', 'killing', 'machine', 'shoots', 'mirrors', 'stock', 'interested', 'nest', 'egg', 'pave', 'paradise', 'put', 'parking', 'graham', 'greene', 'barbet', 'schroeder', 'reversal', 'fortune', 'co', 'produced', 'agonizingly', 'b', 'york', 'vampires', 'latest', 'opus', 'bent', 'outing', 'aptly', 'titled', 'suppose', 'went', 'prefixed', 'possessive', 'unashamed', 'punctuated', 'above', 'storyline', 'borders', 'idiotic', 'chaotic', 'dormant', 'martians', 'swirling', 'gases', 'awakened', 'meddling', 'possess', 'hapless', 'colonists', 'testy', 'marilyn', 'manson', 'lookalikes', 'pooh', 'bah', 'counsel', 'official', 'melanie', 'ballard', 'natasha', 'henstridge', 'sub', 'species', 'returnee', 'officer', 'incarcerated', 'felon', 'second', 'blonde', 'pulled', 'tightly', 'awkwardly', 'ponytail', 'ice', 'cube', 'appropriately', 'named', 'pam', 'grier', 'briefly', 'whom', 'wonder', 'host', 'extras', 'therefore', 'bird', 'shots', 'sprawling', 'metropolis', 'reddish', 'state', 'art', 'trademark', 'finding', 'department', 'lock', 'laughing', 'barrel', 'fare', 'dingy', 'interiors', 'cluttered', 'exteriors', 'inane', 'lots', 'scarred', 'crazed', 'aliens', 'weaponry', 'warfare', 'warning', 'spontaneously', 'stupidly', 'villains', 'border', 'conflicts', 'shootouts', 'minus', 'hissing', 'plissken', 'miss', 'dubbed', 'minimalist', 'soundtracks', 'graduated', 'effective', 'scoring', 'highlighting', 'screeching', 'guitar', 'fortunately', 'drowns', 'er', 'audible', 'priceless', 'proven', 'infertile', 'breeding', 'ground', 'stillborn', 'val', 'kilmer', 'disappointing', 'weekend', 'overshadowed', 'sequels', 'among', 'pie', 'rush', 'absent', 'references', 'set', 'perth', 'amboys', 'closest', 'neighbor', 'slap', 'upside', '1', 'keeps', 'miraculously', 'pretend', 'means', 'intelligent', 'grade', 'sci', 'fi', 'singularly', 'luck', 'starting', 'alicia', 'silverstone', 'beautiful', 'creatures', 'green', 'critic', 'large', 'choosing', 'strikes', 'crush', 'slow', 'moving', 'horrific', 'adaptation', 'clueless', 'mailed', 'saying', 'theater', 'expecting', 'preview', 'crazymadinlove', 'whiny', 'unlikable', 'wasn', 'yelled', 'f', '$&#', 'laugh', 'agreement', 'walked', 'babysitter', 'inner', 'compulsion', 'understand', 'rent', 'regret', 'paragraph', 'competition', 'criticizing', 'thin', 'shred', 'slower', 'glacier', 'writing', 'appeal', 'whatsoever', 'pointlessly', 'concluded', 'violent', 'plus', 'equals', 'spends', 'twenty', 'bubble', 'bath', 'joined', 'four', 'features', 'settle', 'friday', 'cocktail', 'automatically', 'nights', 'trods', 'discover', 'silent', 'object', 'male', 'fantasies', 'thinks', 'recapture', 'youth', 'boyfriend', 'lets', 'wild', 'spying', 'outside', 'prepubescent', 'keyhole', 'aged', 'counterpart', 'asked', '200', 'pound', 'silk', 'teddy', 'fanatasies', 'realm', 'pg', 'imagine', 'cinemax', 'staple', 'absolutely', 'pointed', 'classify', 'mix', 'various', 'encounters', 'third', 'space', 'odyssey', 'apollo', 'contact', 'hope', 'melange', 'considering', 'disastrous', 'results', 'sucks', 'rescue', 'astronauts', 'sent', '2020', 'unknown', 'aviators', 'visit', 'underwhelming', 'describe', 'uneven', 'promise', 'buzz', 'neutral', 'cherry', 'colored', 'nerdies', 'techie']\n"
     ]
    }
   ],
   "source": [
    "import nltk\n",
    "import random\n",
    "from nltk.corpus import movie_reviews\n",
    "\n",
    "# documents = [(list(movie_reviews.words(fileid)), category)\n",
    "#              for category in movie_reviews.categories()\n",
    "#              for fileid in movie_reviews.fileids(category)]\n",
    "\n",
    "# random.shuffle(documents)\n",
    "\n",
    "# print(documents[1])\n",
    "\n",
    "\n",
    "\n",
    "# all_words = nltk.FreqDist(all_words)\n",
    "# print(all_words.most_common(15))\n",
    "# print(all_words[\"stupid\"])\n",
    "document = []\n",
    "for category in movie_reviews.categories():\n",
    "    for fileid in movie_reviews.fileids(category):\n",
    "        document.append((movie_reviews.words(fileid),category))\n",
    "random.shuffle(document)\n",
    "print(document[1][1])\n",
    "all_words = []\n",
    "for w in movie_reviews.words():\n",
    "    all_words.append(w.lower())\n",
    "all_words = nltk.FreqDist(all_words)\n",
    "\n",
    "word_features = list(all_words.keys())[:3000]\n",
    "print(word_features)\n",
    "def find_features(document):\n",
    "    words = set(document)\n",
    "    features = {}\n",
    "    for w in word_features:\n",
    "        features[w] = (w in words)\n",
    "\n",
    "    return features\n",
    "print((find_features(movie_reviews.words('neg/cv000_29416.txt'))))\n",
    "\n",
    "for rev,category in doucment:\n",
    "    find_features(rev)\n",
    "    featuresets.append((find_features(rev),category))\n",
    "    "
   ]
  },
  {
   "cell_type": "code",
   "execution_count": null,
   "metadata": {},
   "outputs": [],
   "source": []
  },
  {
   "cell_type": "code",
   "execution_count": null,
   "metadata": {},
   "outputs": [],
   "source": []
  }
 ],
 "metadata": {
  "kernelspec": {
   "display_name": "Python 3",
   "language": "python",
   "name": "python3"
  },
  "language_info": {
   "codemirror_mode": {
    "name": "ipython",
    "version": 3
   },
   "file_extension": ".py",
   "mimetype": "text/x-python",
   "name": "python",
   "nbconvert_exporter": "python",
   "pygments_lexer": "ipython3",
   "version": "3.7.4"
  }
 },
 "nbformat": 4,
 "nbformat_minor": 2
}
